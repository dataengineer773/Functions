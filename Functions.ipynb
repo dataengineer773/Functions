{
 "cells": [
  {
   "cell_type": "markdown",
   "id": "ea81c7ce",
   "metadata": {},
   "source": [
    "# Functions\n",
    "\n",
    "- Normal funcions\n",
    "\n",
    "- Anonymous function"
   ]
  },
  {
   "cell_type": "markdown",
   "id": "58dfaa0d",
   "metadata": {},
   "source": [
    "## Normal Functions"
   ]
  },
  {
   "cell_type": "code",
   "execution_count": 1,
   "id": "7f4ba8ba",
   "metadata": {},
   "outputs": [],
   "source": [
    "# def name(inputs):\n",
    "#     command1\n",
    "#     command2\n",
    "#     command3\n",
    "#     ...\n",
    "#     return sth"
   ]
  },
  {
   "cell_type": "code",
   "execution_count": 1,
   "id": "a5b3cecc",
   "metadata": {},
   "outputs": [],
   "source": [
    "def double(x):\n",
    "    return 2*x"
   ]
  },
  {
   "cell_type": "code",
   "execution_count": 3,
   "id": "a39d34f9",
   "metadata": {},
   "outputs": [
    {
     "data": {
      "text/plain": [
       "6"
      ]
     },
     "execution_count": 3,
     "metadata": {},
     "output_type": "execute_result"
    }
   ],
   "source": [
    "double(3)"
   ]
  },
  {
   "cell_type": "code",
   "execution_count": 4,
   "id": "bfee1591",
   "metadata": {},
   "outputs": [],
   "source": [
    "def change_value(L):\n",
    "    L[0] = -1"
   ]
  },
  {
   "cell_type": "code",
   "execution_count": 6,
   "id": "8351166e",
   "metadata": {},
   "outputs": [
    {
     "name": "stdout",
     "output_type": "stream",
     "text": [
      "[-1, 2, 3]\n"
     ]
    }
   ],
   "source": [
    "L1 = [1, 2, 3]\n",
    "change_value(L1)\n",
    "print(L1)"
   ]
  },
  {
   "cell_type": "code",
   "execution_count": 7,
   "id": "5bc827dc",
   "metadata": {},
   "outputs": [
    {
     "name": "stdout",
     "output_type": "stream",
     "text": [
      "[1, 2, 3]\n"
     ]
    }
   ],
   "source": [
    "L1 = [1, 2, 3]\n",
    "change_value(L1.copy())\n",
    "print(L1)"
   ]
  },
  {
   "cell_type": "code",
   "execution_count": 8,
   "id": "c1782e4c",
   "metadata": {},
   "outputs": [],
   "source": [
    "# 1, 1, 2, 3, 5, 8, 13, 21, 34, ...\n",
    "# fibo(1) = 1, fib(2) = 1\n",
    "# fibo(n) = fibo(n-1) + fibo(n-2)\n",
    "\n",
    "def fibo(n):\n",
    "    if n==1:\n",
    "        return 1\n",
    "    elif n==2:\n",
    "        return 1\n",
    "    else:\n",
    "        return fibo(n-1) + fibo(n-2)"
   ]
  },
  {
   "cell_type": "code",
   "execution_count": 11,
   "id": "ab8ea5bf",
   "metadata": {},
   "outputs": [
    {
     "data": {
      "text/plain": [
       "8"
      ]
     },
     "execution_count": 11,
     "metadata": {},
     "output_type": "execute_result"
    }
   ],
   "source": [
    "fibo(6)"
   ]
  },
  {
   "cell_type": "code",
   "execution_count": null,
   "id": "4295a866",
   "metadata": {},
   "outputs": [],
   "source": []
  },
  {
   "cell_type": "code",
   "execution_count": null,
   "id": "676466a2",
   "metadata": {},
   "outputs": [],
   "source": []
  },
  {
   "cell_type": "markdown",
   "id": "d98c6eb9",
   "metadata": {},
   "source": [
    "# Lambda functions"
   ]
  },
  {
   "cell_type": "code",
   "execution_count": 19,
   "id": "f9a97191",
   "metadata": {},
   "outputs": [],
   "source": [
    "# lambda x:  command \n"
   ]
  },
  {
   "cell_type": "code",
   "execution_count": 12,
   "id": "e9c42dbf",
   "metadata": {},
   "outputs": [],
   "source": [
    "d = lambda x: 2*x"
   ]
  },
  {
   "cell_type": "code",
   "execution_count": 13,
   "id": "58b059bb",
   "metadata": {},
   "outputs": [
    {
     "data": {
      "text/plain": [
       "8"
      ]
     },
     "execution_count": 13,
     "metadata": {},
     "output_type": "execute_result"
    }
   ],
   "source": [
    "d(4)"
   ]
  },
  {
   "cell_type": "code",
   "execution_count": 15,
   "id": "111e2c19",
   "metadata": {},
   "outputs": [],
   "source": [
    "def triple(x, f):\n",
    "    return 3*f(x)"
   ]
  },
  {
   "cell_type": "code",
   "execution_count": 16,
   "id": "2333964d",
   "metadata": {},
   "outputs": [
    {
     "data": {
      "text/plain": [
       "12"
      ]
     },
     "execution_count": 16,
     "metadata": {},
     "output_type": "execute_result"
    }
   ],
   "source": [
    "triple(2, lambda x: x**2)"
   ]
  },
  {
   "cell_type": "code",
   "execution_count": 18,
   "id": "cb1c24e7",
   "metadata": {},
   "outputs": [],
   "source": [
    "add = lambda x, y: x+y"
   ]
  },
  {
   "cell_type": "code",
   "execution_count": 19,
   "id": "a20cd94d",
   "metadata": {},
   "outputs": [
    {
     "data": {
      "text/plain": [
       "5"
      ]
     },
     "execution_count": 19,
     "metadata": {},
     "output_type": "execute_result"
    }
   ],
   "source": [
    "add(2, 3)"
   ]
  },
  {
   "cell_type": "code",
   "execution_count": 20,
   "id": "1a8ce8e5",
   "metadata": {},
   "outputs": [],
   "source": [
    "L = [1, 4, 2, 3, 1, 6, 8]"
   ]
  },
  {
   "cell_type": "code",
   "execution_count": 26,
   "id": "3a166b8e",
   "metadata": {},
   "outputs": [
    {
     "data": {
      "text/plain": [
       "[0, 1, 2, 3, 4, 5, 6]"
      ]
     },
     "execution_count": 26,
     "metadata": {},
     "output_type": "execute_result"
    }
   ],
   "source": [
    "[i if L[i]%2==0 for i in range(len(L))]"
   ]
  },
  {
   "cell_type": "code",
   "execution_count": 45,
   "id": "396ddb4a",
   "metadata": {},
   "outputs": [],
   "source": [
    "# def apply(f, L):\n",
    "#     LL = []\n",
    "#     for i in range(len(L)):\n",
    "#         LL.append(f(L[i]))\n",
    "#     return LL\n",
    "\n",
    "def apply(f, L):\n",
    "    LL = []\n",
    "    for i in range(len(L)):\n",
    "        if f(L[i]):\n",
    "#             LL.append(L[i])\n",
    "            LL.append(i)\n",
    "    return LL"
   ]
  },
  {
   "cell_type": "code",
   "execution_count": 46,
   "id": "bc042fa2",
   "metadata": {},
   "outputs": [
    {
     "data": {
      "text/plain": [
       "[1, 3, 5, 7]"
      ]
     },
     "execution_count": 46,
     "metadata": {},
     "output_type": "execute_result"
    }
   ],
   "source": [
    "L = [1, 2, 5, 4, 9, 112, 11, 12]\n",
    "apply(lambda x: x%2==0, L)"
   ]
  },
  {
   "cell_type": "code",
   "execution_count": 49,
   "id": "c846b846",
   "metadata": {},
   "outputs": [
    {
     "data": {
      "text/plain": [
       "[None, 2, None, 4, None, 112, None, 12]"
      ]
     },
     "execution_count": 49,
     "metadata": {},
     "output_type": "execute_result"
    }
   ],
   "source": [
    "[x if x%2==0 else None for x in L]"
   ]
  },
  {
   "cell_type": "code",
   "execution_count": 51,
   "id": "dcdc0f0d",
   "metadata": {},
   "outputs": [
    {
     "data": {
      "text/plain": [
       "[1, 4, 9, 16, 25, 36, 49, 64, 81, 100]"
      ]
     },
     "execution_count": 51,
     "metadata": {},
     "output_type": "execute_result"
    }
   ],
   "source": [
    "[i**2 for i in range(1, 11)]"
   ]
  },
  {
   "cell_type": "code",
   "execution_count": 52,
   "id": "56254dee",
   "metadata": {},
   "outputs": [],
   "source": [
    "L2 = []\n",
    "\n",
    "for e in L:\n",
    "    if e %2 == 0:\n",
    "        L2.append(e)"
   ]
  },
  {
   "cell_type": "code",
   "execution_count": 53,
   "id": "dfb346e0",
   "metadata": {},
   "outputs": [
    {
     "data": {
      "text/plain": [
       "[2, 4, 112, 12]"
      ]
     },
     "execution_count": 53,
     "metadata": {},
     "output_type": "execute_result"
    }
   ],
   "source": [
    "L2"
   ]
  },
  {
   "cell_type": "markdown",
   "id": "d6660154",
   "metadata": {},
   "source": [
    "## Python packages"
   ]
  },
  {
   "cell_type": "code",
   "execution_count": 58,
   "id": "70ab3382",
   "metadata": {},
   "outputs": [
    {
     "data": {
      "text/plain": [
       "0.0"
      ]
     },
     "execution_count": 58,
     "metadata": {},
     "output_type": "execute_result"
    }
   ],
   "source": [
    "from math import sin\n",
    "sin(0)"
   ]
  },
  {
   "cell_type": "code",
   "execution_count": 59,
   "id": "50fa8b43",
   "metadata": {},
   "outputs": [
    {
     "data": {
      "text/plain": [
       "1.3862943611198906"
      ]
     },
     "execution_count": 59,
     "metadata": {},
     "output_type": "execute_result"
    }
   ],
   "source": [
    "from math import *\n",
    "log(4)"
   ]
  },
  {
   "cell_type": "code",
   "execution_count": 60,
   "id": "51f6149e",
   "metadata": {},
   "outputs": [
    {
     "data": {
      "text/plain": [
       "0.0"
      ]
     },
     "execution_count": 60,
     "metadata": {},
     "output_type": "execute_result"
    }
   ],
   "source": [
    "import math\n",
    "math.sin(0)"
   ]
  },
  {
   "cell_type": "code",
   "execution_count": 61,
   "id": "bb0d23e6",
   "metadata": {},
   "outputs": [],
   "source": [
    "from math import sinh as sh"
   ]
  },
  {
   "cell_type": "code",
   "execution_count": 62,
   "id": "63f5103f",
   "metadata": {},
   "outputs": [
    {
     "data": {
      "text/plain": [
       "1.1752011936438014"
      ]
     },
     "execution_count": 62,
     "metadata": {},
     "output_type": "execute_result"
    }
   ],
   "source": [
    "sh(1)"
   ]
  },
  {
   "cell_type": "code",
   "execution_count": 63,
   "id": "28b57a25",
   "metadata": {},
   "outputs": [],
   "source": [
    "def is_prime(x):\n",
    "    if type(x) != int:\n",
    "        return False\n",
    "    \n",
    "    if x<2:\n",
    "        return False\n",
    "    \n",
    "    if x == 2 or x == 3:\n",
    "        return True\n",
    "    \n",
    "    flag = True\n",
    "    \n",
    "    for i in range(2, int(math.sqrt(x)) + 1):\n",
    "        if x%i == 0:\n",
    "            flag = False\n",
    "            break\n",
    "    return flag"
   ]
  },
  {
   "cell_type": "code",
   "execution_count": 65,
   "id": "1e882ac4",
   "metadata": {},
   "outputs": [
    {
     "data": {
      "text/plain": [
       "True"
      ]
     },
     "execution_count": 65,
     "metadata": {},
     "output_type": "execute_result"
    }
   ],
   "source": [
    "is_prime(11)"
   ]
  },
  {
   "cell_type": "code",
   "execution_count": null,
   "id": "e4df079e",
   "metadata": {},
   "outputs": [],
   "source": []
  }
 ],
 "metadata": {
  "kernelspec": {
   "display_name": "Python 3 (ipykernel)",
   "language": "python",
   "name": "python3"
  },
  "language_info": {
   "codemirror_mode": {
    "name": "ipython",
    "version": 3
   },
   "file_extension": ".py",
   "mimetype": "text/x-python",
   "name": "python",
   "nbconvert_exporter": "python",
   "pygments_lexer": "ipython3",
   "version": "3.9.5"
  }
 },
 "nbformat": 4,
 "nbformat_minor": 5
}
